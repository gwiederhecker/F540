{
 "cells": [
  {
   "cell_type": "markdown",
   "metadata": {},
   "source": [
    "## Importando bilbiotecas"
   ]
  },
  {
   "cell_type": "code",
   "execution_count": null,
   "metadata": {},
   "outputs": [],
   "source": [
    "import numpy as np  # module for array manipulation\n",
    "import matplotlib.pyplot as plt\n",
    "import os   # module for general OS manipulation\n",
    "import time # module for time related funtions\n",
    "import pandas as pd # module for general data analysis\n",
    "import pylef"
   ]
  },
  {
   "cell_type": "markdown",
   "metadata": {},
   "source": [
    "Abaixo, é criada uma função (plot_bode) para graficar os pontos experimentais"
   ]
  },
  {
   "cell_type": "code",
   "execution_count": null,
   "metadata": {},
   "outputs": [],
   "source": [
    "#***********************************************\n",
    "#***********************************************\n",
    "def plot_bode(freq,phase,T,T_dB,spacing='log'):\n",
    "    '''\n",
    "    Função para graficar transmistância e fase\n",
    "    ===============\n",
    "    Uso simples:\n",
    "    >>> figure = plot_bode(freq,phase,T,T_dB,spacing)\n",
    "    entrada:\n",
    "    --------\n",
    "    freq: vetor de frequências (lista ou numpy.array)\n",
    "    phase: vetor de fases (lista ou numpy.array)\n",
    "    T: vetor de transmitância linear (lista ou numpy.array)\n",
    "    T_dB: vetor de transmitância em decibéis (lista ou numpy.array)\n",
    "    spacing (opcional): 'linear' (espaçamento linear) ou 'log' (espaçamento logarítmico); por padrao o espaçamento é linear\n",
    "    --------\n",
    "    saída:\n",
    "    figure:objeto gráfico do Matplotlib\n",
    "    '''\n",
    "    #Identificando se é linear ou log\n",
    "    npt = len(T_dB)\n",
    "    fig, ax = plt.subplots(2, sharex=True)\n",
    "    if spacing=='log':\n",
    "        y=T_dB\n",
    "        y_label='Transmissão (dB)'\n",
    "    elif spacing=='linear':\n",
    "        y=T\n",
    "        y_label='Transmissão'\n",
    "    #-----------------------------------\n",
    "    #TRANSMISSION PLOT\n",
    "    #-----------------------------------\n",
    "    ax[0] = plt.subplot(211)  # define um eixo\n",
    "    ax[0].plot(freq[0:npt], y[0:npt], 'ro')   # plota a transmissão\n",
    "    ax[0].set_xscale(spacing)   # seta a escala de x para logaritmica\n",
    "    # Por que não usamos escala log no eixo y também?\n",
    "    #ax[0].set_xlabel('frequência (Hz)')   # seta escala do eixo x\n",
    "    ax[0].set_ylabel(y_label)   # seta escala do eixo y\n",
    "    plt.xlim((freq.min(),freq.max()))\n",
    "    #-----------------------------------\n",
    "    #PHASE PLOT\n",
    "    #-----------------------------------\n",
    "    ax[1] = plt.subplot(212)  # define um eixo\n",
    "    ax[1].plot(freq[0:npt], phase[0:npt], 'bo')   # plota a transmissão\n",
    "    ax[1].set_xscale(spacing)   # seta a escala de x para logaritmica\n",
    "    # Por que não usamos escala log no eixo y também?\n",
    "    ax[1].set_xlabel('frequência (Hz)')   # seta escala do eixo x\n",
    "    ax[1].set_ylabel('Fase (graus)')   # seta escala do eixo y\n",
    "    plt.xlim((freq.min(),freq.max()))\n",
    "    plt.ylim((-180,180))\n",
    "    #------------------------------------\n",
    "    clear_output(True)\n",
    "    display(fig)\n",
    "    plt.close()\n",
    "    return fig"
   ]
  },
  {
   "cell_type": "code",
   "execution_count": 3,
   "metadata": {},
   "outputs": [],
   "source": [
    "## Importando os dados"
   ]
  },
  {
   "cell_type": "code",
   "execution_count": null,
   "metadata": {},
   "outputs": [],
   "source": []
  }
 ],
 "metadata": {
  "kernelspec": {
   "display_name": "Python 3",
   "language": "python",
   "name": "python3"
  },
  "language_info": {
   "codemirror_mode": {
    "name": "ipython",
    "version": 3
   },
   "file_extension": ".py",
   "mimetype": "text/x-python",
   "name": "python",
   "nbconvert_exporter": "python",
   "pygments_lexer": "ipython3",
   "version": "3.6.4"
  }
 },
 "nbformat": 4,
 "nbformat_minor": 2
}
